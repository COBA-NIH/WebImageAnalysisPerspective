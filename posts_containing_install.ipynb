{
 "cells": [
  {
   "cell_type": "code",
   "execution_count": 1,
   "id": "1367105f",
   "metadata": {},
   "outputs": [],
   "source": [
    "import requests\n",
    "import json\n",
    "import time"
   ]
  },
  {
   "cell_type": "code",
   "execution_count": 2,
   "id": "50987084",
   "metadata": {},
   "outputs": [],
   "source": [
    "api_key = 'REDACTED'\n",
    "api_username = 'REDACTED'"
   ]
  },
  {
   "cell_type": "code",
   "execution_count": 3,
   "id": "fc78af8f",
   "metadata": {},
   "outputs": [],
   "source": [
    "start = 251034\n",
    "install_count = 0"
   ]
  },
  {
   "cell_type": "code",
   "execution_count": 4,
   "id": "a735c40e",
   "metadata": {},
   "outputs": [],
   "source": [
    "#help from https://meta.discourse.org/t/discourse-api-docs-mention-a-request-body-for-a-get-request/231137/13\n",
    "def get_post_before(start):\n",
    "    endpoint = f\"https://forum.image.sc/posts.json?before={start}\"\n",
    "    headers = {\n",
    "        \"Content-Type\": \"application/json\",\n",
    "        \"Api-Key\": api_key,\n",
    "        \"Api-Username\": api_username,\n",
    "    }\n",
    "    response = requests.get(endpoint, headers=headers) \n",
    "    if response.status_code == 200:\n",
    "        return response.json()\n",
    "    \n",
    "    "
   ]
  },
  {
   "cell_type": "code",
   "execution_count": 5,
   "id": "665516e8",
   "metadata": {},
   "outputs": [],
   "source": [
    "test = get_post_before(start)"
   ]
  },
  {
   "cell_type": "code",
   "execution_count": 6,
   "id": "fab63198",
   "metadata": {},
   "outputs": [
    {
     "name": "stdout",
     "output_type": "stream",
     "text": [
      "41\n",
      "74\n",
      "106\n",
      "139\n",
      "176\n",
      "218\n",
      "258\n",
      "289\n",
      "332\n",
      "374\n",
      "412\n",
      "442\n",
      "480\n",
      "520\n",
      "558\n",
      "595\n",
      "638\n",
      "675\n",
      "708\n",
      "752\n",
      "785\n",
      "813\n",
      "856\n",
      "892\n",
      "928\n",
      "972\n",
      "1007\n",
      "1038\n",
      "1082\n",
      "1123\n",
      "1142\n",
      "1172\n",
      "1194\n",
      "1234\n",
      "1264\n",
      "1303\n",
      "1342\n",
      "1381\n",
      "1416\n",
      "1443\n",
      "1469\n",
      "1502\n",
      "1539\n",
      "1577\n",
      "1611\n",
      "1650\n",
      "1683\n",
      "1719\n",
      "1755\n",
      "1791\n",
      "1823\n",
      "1861\n",
      "1885\n",
      "1914\n",
      "1945\n",
      "1976\n",
      "2008\n"
     ]
    }
   ],
   "source": [
    "post_list = []\n",
    "while len(post_list)<2000:\n",
    "    posts = get_post_before(start)\n",
    "    post_list += [x['cooked'] for x in posts['latest_posts']]\n",
    "    print(len(post_list))\n",
    "    start -= 50\n",
    "    "
   ]
  },
  {
   "cell_type": "code",
   "execution_count": 7,
   "id": "ed862f33",
   "metadata": {},
   "outputs": [
    {
     "data": {
      "text/plain": [
       "146"
      ]
     },
     "execution_count": 7,
     "metadata": {},
     "output_type": "execute_result"
    }
   ],
   "source": [
    "len([x for x in post_list if 'install' in x.lower()])"
   ]
  },
  {
   "cell_type": "code",
   "execution_count": 8,
   "id": "baa282a3",
   "metadata": {},
   "outputs": [],
   "source": [
    "with open('2008_forum_posts.txt','w') as postfile:\n",
    "    postfile.write(' ;;;; '.join(post_list))"
   ]
  },
  {
   "cell_type": "code",
   "execution_count": 9,
   "id": "2cdf4140",
   "metadata": {},
   "outputs": [
    {
     "data": {
      "text/plain": [
       "7.270916334661354"
      ]
     },
     "execution_count": 9,
     "metadata": {},
     "output_type": "execute_result"
    }
   ],
   "source": [
    "14600/2008"
   ]
  },
  {
   "cell_type": "code",
   "execution_count": 12,
   "id": "17ce1941",
   "metadata": {},
   "outputs": [],
   "source": [
    "def get_topic_ids(page):\n",
    "    endpoint = f\"https://forum.image.sc/latest.json?page={page}\"\n",
    "    headers = {\n",
    "        \"Content-Type\": \"application/json\",\n",
    "        \"Api-Key\": api_key,\n",
    "        \"Api-Username\": api_username,\n",
    "    }\n",
    "    response = requests.get(endpoint, headers=headers) \n",
    "    if response.status_code == 200:\n",
    "        page_contents = response.json()\n",
    "        return [x['id'] for x in page_contents[\"topic_list\"][\"topics\"]]\n",
    "    else:\n",
    "        print(f\"Non 200 response code for page {page} (response code was {response.status_code}). Sleeping 3 seconds\")\n",
    "        time.sleep(3)\n",
    "        return False\n",
    "    "
   ]
  },
  {
   "cell_type": "code",
   "execution_count": 13,
   "id": "b51da415",
   "metadata": {},
   "outputs": [
    {
     "name": "stdout",
     "output_type": "stream",
     "text": [
      "30\n",
      "60\n",
      "90\n",
      "120\n",
      "150\n",
      "180\n",
      "210\n",
      "240\n",
      "270\n",
      "300\n",
      "330\n",
      "360\n",
      "390\n",
      "420\n",
      "450\n",
      "480\n",
      "510\n"
     ]
    }
   ],
   "source": [
    "latest_topics = []\n",
    "page = 1\n",
    "while len(latest_topics)<=500:\n",
    "    latest_topics += get_topic_ids(page)\n",
    "    latest_topics = list(set(latest_topics))\n",
    "    page += 1\n",
    "    print(len(latest_topics))"
   ]
  },
  {
   "cell_type": "code",
   "execution_count": 16,
   "id": "2c31fb46",
   "metadata": {},
   "outputs": [],
   "source": [
    "def get_all_post_text(topic):\n",
    "    endpoint = f\"https://forum.image.sc/t/{topic}.json\"\n",
    "    headers = {\n",
    "        \"Content-Type\": \"application/json\",\n",
    "        \"Api-Key\": api_key,\n",
    "        \"Api-Username\": api_username,\n",
    "    }\n",
    "    response = requests.get(endpoint, headers=headers) \n",
    "    if response.status_code == 200:\n",
    "        page_contents = response.json()\n",
    "        return [x['cooked'] for x in page_contents[\"post_stream\"][\"posts\"]]\n",
    "    else:\n",
    "        print(f\"Non 200 response code for topic {topic} (response code was {response.status_code}). Sleeping 30 seconds\")\n",
    "        time.sleep(30)\n",
    "        return False"
   ]
  },
  {
   "cell_type": "code",
   "execution_count": 17,
   "id": "6484ef5b",
   "metadata": {},
   "outputs": [
    {
     "name": "stdout",
     "output_type": "stream",
     "text": [
      "Non 200 response code for topic 45459 (response code was 429). Sleeping 30 seconds\n",
      "Non 200 response code for topic 78227 (response code was 429). Sleeping 30 seconds\n",
      "Non 200 response code for topic 55841 (response code was 429). Sleeping 30 seconds\n",
      "Non 200 response code for topic 78373 (response code was 429). Sleeping 30 seconds\n",
      "Non 200 response code for topic 55987 (response code was 429). Sleeping 30 seconds\n",
      "Non 200 response code for topic 55991 (response code was 429). Sleeping 30 seconds\n",
      "Non 200 response code for topic 78640 (response code was 429). Sleeping 30 seconds\n",
      "Non 200 response code for topic 78646 (response code was 429). Sleeping 30 seconds\n",
      "Non 200 response code for topic 78764 (response code was 429). Sleeping 30 seconds\n",
      "Non 200 response code for topic 78766 (response code was 429). Sleeping 30 seconds\n",
      "Non 200 response code for topic 78887 (response code was 429). Sleeping 30 seconds\n",
      "Non 200 response code for topic 78888 (response code was 429). Sleeping 30 seconds\n",
      "Non 200 response code for topic 79032 (response code was 429). Sleeping 30 seconds\n",
      "Non 200 response code for topic 79033 (response code was 429). Sleeping 30 seconds\n",
      "Non 200 response code for topic 77709 (response code was 429). Sleeping 30 seconds\n",
      "Non 200 response code for topic 75692 (response code was 429). Sleeping 30 seconds\n"
     ]
    }
   ],
   "source": [
    "topic_post_dict = {}\n",
    "for eachtopic in latest_topics:\n",
    "    all_posts = get_all_post_text(eachtopic)\n",
    "    if all_posts:\n",
    "        topic_post_dict[eachtopic]=all_posts"
   ]
  },
  {
   "cell_type": "code",
   "execution_count": 18,
   "id": "9103b5f3",
   "metadata": {},
   "outputs": [],
   "source": [
    "with open(\"500ish_forum_topics.json\",'w') as topic_post_file:\n",
    "    json.dump(topic_post_dict,topic_post_file)"
   ]
  },
  {
   "cell_type": "code",
   "execution_count": 21,
   "id": "6b64a105",
   "metadata": {},
   "outputs": [
    {
     "name": "stdout",
     "output_type": "stream",
     "text": [
      "494 2604 96\n"
     ]
    }
   ],
   "source": [
    "topic_count = 0\n",
    "post_count = 0\n",
    "topics_with_install_count = 0\n",
    "for value in list(topic_post_dict.values()):\n",
    "    topic_count +=1\n",
    "    post_count += len(value)\n",
    "    if 'install' in ' '.join(value).lower():\n",
    "        topics_with_install_count +=1\n",
    "print(topic_count,post_count,topics_with_install_count)\n",
    "    "
   ]
  },
  {
   "cell_type": "code",
   "execution_count": 22,
   "id": "c9dab52d",
   "metadata": {},
   "outputs": [
    {
     "data": {
      "text/plain": [
       "19.4331983805668"
      ]
     },
     "execution_count": 22,
     "metadata": {},
     "output_type": "execute_result"
    }
   ],
   "source": [
    "9600/494"
   ]
  },
  {
   "cell_type": "code",
   "execution_count": 23,
   "id": "1eff6e21",
   "metadata": {},
   "outputs": [
    {
     "name": "stdout",
     "output_type": "stream",
     "text": [
      "494 2604 49\n"
     ]
    }
   ],
   "source": [
    "topic_count = 0\n",
    "post_count = 0\n",
    "topics_with_install_in_top_post_count = 0\n",
    "for value in list(topic_post_dict.values()):\n",
    "    topic_count +=1\n",
    "    post_count += len(value)\n",
    "    if 'install' in value[0]:\n",
    "        topics_with_install_in_top_post_count +=1\n",
    "print(topic_count,post_count,topics_with_install_in_top_post_count)"
   ]
  },
  {
   "cell_type": "code",
   "execution_count": 24,
   "id": "6f3cc428",
   "metadata": {},
   "outputs": [
    {
     "data": {
      "text/plain": [
       "9.919028340080972"
      ]
     },
     "execution_count": 24,
     "metadata": {},
     "output_type": "execute_result"
    }
   ],
   "source": [
    "4900/494"
   ]
  },
  {
   "cell_type": "code",
   "execution_count": 25,
   "id": "ea23e544",
   "metadata": {},
   "outputs": [
    {
     "name": "stdout",
     "output_type": "stream",
     "text": [
      "494 2604 208\n"
     ]
    }
   ],
   "source": [
    "topic_count = 0\n",
    "post_count = 0\n",
    "posts_with_install_count = 0\n",
    "for value in list(topic_post_dict.values()):\n",
    "    topic_count +=1\n",
    "    post_count += len(value)\n",
    "    for eachpost in value:\n",
    "        if 'install' in eachpost:\n",
    "            posts_with_install_count +=1\n",
    "print(topic_count,post_count,posts_with_install_count)"
   ]
  },
  {
   "cell_type": "code",
   "execution_count": 26,
   "id": "657d341d",
   "metadata": {},
   "outputs": [
    {
     "data": {
      "text/plain": [
       "7.987711213517665"
      ]
     },
     "execution_count": 26,
     "metadata": {},
     "output_type": "execute_result"
    }
   ],
   "source": [
    "20800/2604"
   ]
  },
  {
   "cell_type": "code",
   "execution_count": null,
   "id": "1fe52152",
   "metadata": {},
   "outputs": [],
   "source": []
  }
 ],
 "metadata": {
  "kernelspec": {
   "display_name": "Python 3 (ipykernel)",
   "language": "python",
   "name": "python3"
  },
  "language_info": {
   "codemirror_mode": {
    "name": "ipython",
    "version": 3
   },
   "file_extension": ".py",
   "mimetype": "text/x-python",
   "name": "python",
   "nbconvert_exporter": "python",
   "pygments_lexer": "ipython3",
   "version": "3.8.16"
  }
 },
 "nbformat": 4,
 "nbformat_minor": 5
}
